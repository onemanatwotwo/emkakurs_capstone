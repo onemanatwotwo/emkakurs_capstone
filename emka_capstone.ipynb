{
  "cells": [
    {
      "cell_type": "markdown",
      "metadata": {
        "id": "f8eeEFk32VUI"
      },
      "source": [
        "# EmKa Akademi Bitime Projesi\n",
        "## Ön tanıtım\n",
        "\n",
        "İnternetten bir film izlemek istediğinizi hayal edin. İnternetteki film puanlamalarına ne kadar güvenebilirsiniz ? *Özellikle* reytingi gösteren aynı şirket sinema bileti satarak da para kazanıyorsa. Sizce de derecelendirme konusunda insanları yanlış yönlendirmesi söz konusu olabilir mi ?\n",
        "\n",
        "### Hedef:\n",
        "\n",
        "**Amacınız aşağıdaki görevleri tamamlayarak *Fandango* websitesinin ratingler konusunda bir yanlış yapıp yapmadığını emin bir şekilde ispatlamak**\n",
        "\n",
        "---\n",
        "---\n",
        "\n",
        "** Bu da bir sorulu analizdir. Aşağıda sorulan sorulara cevap vermeye ve çıktılara yakın bir çıktı elde etmeye çalışmanız gerekmektedir. **\n",
        "\n",
        "---\n",
        "----\n",
        "\n",
        "## Part One: Datayı Anlamak"
      ]
    },
    {
      "cell_type": "markdown",
      "metadata": {
        "id": "654QUyrM2VUK"
      },
      "source": [
        "### The Data\n",
        "\n",
        "Elimizde biri şüphelenilen *Fandango* sitsine ait yıldızlar ve film derecelendirmeleri içeriyor. Diğeri ise diğer film sitelerindeki film derecelendirmeleri için veriler içeren toplam 2 csv dosyası vardır.\n",
        "\n",
        "#### all_sites_scores.csv"
      ]
    },
    {
      "cell_type": "markdown",
      "metadata": {
        "id": "8Rr074oo2VUL"
      },
      "source": [
        "-----\n",
        "\n",
        "`all_sites_scores.csv` Bütün benzeri sitelerin açıklama kullanıcı puanlamaları bilgilerini ve özellikle 'Rotten Tomatoes(Çürük Elma) adlı bir filme ait başka sitelerdeki puanları içermektedir.'"
      ]
    },
    {
      "cell_type": "markdown",
      "metadata": {
        "id": "ceJbl-082VUL"
      },
      "source": [
        "Column | Definition\n",
        "--- | -----------\n",
        "FILM | The film in question\n",
        "RottenTomatoes | The Rotten Tomatoes Tomatometer score  for the film\n",
        "RottenTomatoes_User | The Rotten Tomatoes user score for the film\n",
        "Metacritic | The Metacritic critic score for the film\n",
        "Metacritic_User | The Metacritic user score for the film\n",
        "IMDB | The IMDb user score for the film\n",
        "Metacritic_user_vote_count | The number of user votes the film had on Metacritic\n",
        "IMDB_user_vote_count | The number of user votes the film had on IMDb"
      ]
    },
    {
      "cell_type": "markdown",
      "metadata": {
        "id": "KWxttGZT2VUL"
      },
      "source": [
        "----\n",
        "----\n",
        "\n",
        "#### fandango_scape.csv"
      ]
    },
    {
      "cell_type": "markdown",
      "metadata": {
        "id": "j1RkXSAr2VUM"
      },
      "source": [
        "`fandango_scrape.csv` Fandango sitesine ait 538 film içermektedir\n",
        "\n",
        "Column | Definiton\n",
        "--- | ---------\n",
        "FILM | The movie\n",
        "STARS | Number of stars presented on Fandango.com\n",
        "RATING |  The Fandango ratingValue for the film, as pulled from the HTML of each page. This is the actual average score the movie obtained.\n",
        "VOTES | number of people who had reviewed the film at the time we pulled it."
      ]
    },
    {
      "cell_type": "markdown",
      "metadata": {
        "id": "Cd3jD2jd2VUM"
      },
      "source": [
        "----\n",
        "\n",
        "**TASK: Analizinde işinize yarayacağını düşündüğünüz kütüphanaleri import edin:**"
      ]
    },
    {
      "cell_type": "code",
      "execution_count": 3,
      "metadata": {
        "id": "qHIk4gzU2VUM"
      },
      "outputs": [],
      "source": [
        "import pandas as pd\n",
        "import numpy as np\n",
        "import matplotlib.pyplot as plt\n",
        "import seaborn as sns"
      ]
    },
    {
      "cell_type": "code",
      "execution_count": 3,
      "metadata": {
        "id": "X5TraNQE2VUO"
      },
      "outputs": [],
      "source": []
    },
    {
      "cell_type": "markdown",
      "metadata": {
        "id": "VygJ8m4f2VUO"
      },
      "source": [
        "## Part Two: Fandango sitesini keşfetmeye çalışalım. Gerçek kullanıcı derecelendirmelerini ve site puanlarını yavaştan karşılaştıralım\n",
        "\n",
        "Fandangonun filmleri puanlama ve derecelendirme konusunda taraflı davranıp davranmadığını analiz etmeye başlayalım !\n",
        "\n",
        "**TASK: Aşağıdaki fandango_scrape.csv dosyasını çalıştırın**"
      ]
    },
    {
      "cell_type": "code",
      "execution_count": 4,
      "metadata": {
        "id": "30CT70l12VUO",
        "colab": {
          "base_uri": "https://localhost:8080/",
          "height": 311
        },
        "outputId": "442f8a0d-a3ca-4bf6-ba17-2ecab9f37644"
      },
      "outputs": [
        {
          "output_type": "error",
          "ename": "FileNotFoundError",
          "evalue": "ignored",
          "traceback": [
            "\u001b[0;31m---------------------------------------------------------------------------\u001b[0m",
            "\u001b[0;31mFileNotFoundError\u001b[0m                         Traceback (most recent call last)",
            "\u001b[0;32m<ipython-input-4-ad1a4dcd784b>\u001b[0m in \u001b[0;36m<cell line: 1>\u001b[0;34m()\u001b[0m\n\u001b[0;32m----> 1\u001b[0;31m \u001b[0mfandango\u001b[0m \u001b[0;34m=\u001b[0m \u001b[0mpd\u001b[0m\u001b[0;34m.\u001b[0m\u001b[0mread_csv\u001b[0m\u001b[0;34m(\u001b[0m\u001b[0;34mr\"fandango_scrape.csv\"\u001b[0m\u001b[0;34m)\u001b[0m\u001b[0;34m\u001b[0m\u001b[0;34m\u001b[0m\u001b[0m\n\u001b[0m",
            "\u001b[0;32m/usr/local/lib/python3.9/dist-packages/pandas/util/_decorators.py\u001b[0m in \u001b[0;36mwrapper\u001b[0;34m(*args, **kwargs)\u001b[0m\n\u001b[1;32m    209\u001b[0m                 \u001b[0;32melse\u001b[0m\u001b[0;34m:\u001b[0m\u001b[0;34m\u001b[0m\u001b[0;34m\u001b[0m\u001b[0m\n\u001b[1;32m    210\u001b[0m                     \u001b[0mkwargs\u001b[0m\u001b[0;34m[\u001b[0m\u001b[0mnew_arg_name\u001b[0m\u001b[0;34m]\u001b[0m \u001b[0;34m=\u001b[0m \u001b[0mnew_arg_value\u001b[0m\u001b[0;34m\u001b[0m\u001b[0;34m\u001b[0m\u001b[0m\n\u001b[0;32m--> 211\u001b[0;31m             \u001b[0;32mreturn\u001b[0m \u001b[0mfunc\u001b[0m\u001b[0;34m(\u001b[0m\u001b[0;34m*\u001b[0m\u001b[0margs\u001b[0m\u001b[0;34m,\u001b[0m \u001b[0;34m**\u001b[0m\u001b[0mkwargs\u001b[0m\u001b[0;34m)\u001b[0m\u001b[0;34m\u001b[0m\u001b[0;34m\u001b[0m\u001b[0m\n\u001b[0m\u001b[1;32m    212\u001b[0m \u001b[0;34m\u001b[0m\u001b[0m\n\u001b[1;32m    213\u001b[0m         \u001b[0;32mreturn\u001b[0m \u001b[0mcast\u001b[0m\u001b[0;34m(\u001b[0m\u001b[0mF\u001b[0m\u001b[0;34m,\u001b[0m \u001b[0mwrapper\u001b[0m\u001b[0;34m)\u001b[0m\u001b[0;34m\u001b[0m\u001b[0;34m\u001b[0m\u001b[0m\n",
            "\u001b[0;32m/usr/local/lib/python3.9/dist-packages/pandas/util/_decorators.py\u001b[0m in \u001b[0;36mwrapper\u001b[0;34m(*args, **kwargs)\u001b[0m\n\u001b[1;32m    329\u001b[0m                     \u001b[0mstacklevel\u001b[0m\u001b[0;34m=\u001b[0m\u001b[0mfind_stack_level\u001b[0m\u001b[0;34m(\u001b[0m\u001b[0;34m)\u001b[0m\u001b[0;34m,\u001b[0m\u001b[0;34m\u001b[0m\u001b[0;34m\u001b[0m\u001b[0m\n\u001b[1;32m    330\u001b[0m                 )\n\u001b[0;32m--> 331\u001b[0;31m             \u001b[0;32mreturn\u001b[0m \u001b[0mfunc\u001b[0m\u001b[0;34m(\u001b[0m\u001b[0;34m*\u001b[0m\u001b[0margs\u001b[0m\u001b[0;34m,\u001b[0m \u001b[0;34m**\u001b[0m\u001b[0mkwargs\u001b[0m\u001b[0;34m)\u001b[0m\u001b[0;34m\u001b[0m\u001b[0;34m\u001b[0m\u001b[0m\n\u001b[0m\u001b[1;32m    332\u001b[0m \u001b[0;34m\u001b[0m\u001b[0m\n\u001b[1;32m    333\u001b[0m         \u001b[0;31m# error: \"Callable[[VarArg(Any), KwArg(Any)], Any]\" has no\u001b[0m\u001b[0;34m\u001b[0m\u001b[0;34m\u001b[0m\u001b[0m\n",
            "\u001b[0;32m/usr/local/lib/python3.9/dist-packages/pandas/io/parsers/readers.py\u001b[0m in \u001b[0;36mread_csv\u001b[0;34m(filepath_or_buffer, sep, delimiter, header, names, index_col, usecols, squeeze, prefix, mangle_dupe_cols, dtype, engine, converters, true_values, false_values, skipinitialspace, skiprows, skipfooter, nrows, na_values, keep_default_na, na_filter, verbose, skip_blank_lines, parse_dates, infer_datetime_format, keep_date_col, date_parser, dayfirst, cache_dates, iterator, chunksize, compression, thousands, decimal, lineterminator, quotechar, quoting, doublequote, escapechar, comment, encoding, encoding_errors, dialect, error_bad_lines, warn_bad_lines, on_bad_lines, delim_whitespace, low_memory, memory_map, float_precision, storage_options)\u001b[0m\n\u001b[1;32m    948\u001b[0m     \u001b[0mkwds\u001b[0m\u001b[0;34m.\u001b[0m\u001b[0mupdate\u001b[0m\u001b[0;34m(\u001b[0m\u001b[0mkwds_defaults\u001b[0m\u001b[0;34m)\u001b[0m\u001b[0;34m\u001b[0m\u001b[0;34m\u001b[0m\u001b[0m\n\u001b[1;32m    949\u001b[0m \u001b[0;34m\u001b[0m\u001b[0m\n\u001b[0;32m--> 950\u001b[0;31m     \u001b[0;32mreturn\u001b[0m \u001b[0m_read\u001b[0m\u001b[0;34m(\u001b[0m\u001b[0mfilepath_or_buffer\u001b[0m\u001b[0;34m,\u001b[0m \u001b[0mkwds\u001b[0m\u001b[0;34m)\u001b[0m\u001b[0;34m\u001b[0m\u001b[0;34m\u001b[0m\u001b[0m\n\u001b[0m\u001b[1;32m    951\u001b[0m \u001b[0;34m\u001b[0m\u001b[0m\n\u001b[1;32m    952\u001b[0m \u001b[0;34m\u001b[0m\u001b[0m\n",
            "\u001b[0;32m/usr/local/lib/python3.9/dist-packages/pandas/io/parsers/readers.py\u001b[0m in \u001b[0;36m_read\u001b[0;34m(filepath_or_buffer, kwds)\u001b[0m\n\u001b[1;32m    603\u001b[0m \u001b[0;34m\u001b[0m\u001b[0m\n\u001b[1;32m    604\u001b[0m     \u001b[0;31m# Create the parser.\u001b[0m\u001b[0;34m\u001b[0m\u001b[0;34m\u001b[0m\u001b[0m\n\u001b[0;32m--> 605\u001b[0;31m     \u001b[0mparser\u001b[0m \u001b[0;34m=\u001b[0m \u001b[0mTextFileReader\u001b[0m\u001b[0;34m(\u001b[0m\u001b[0mfilepath_or_buffer\u001b[0m\u001b[0;34m,\u001b[0m \u001b[0;34m**\u001b[0m\u001b[0mkwds\u001b[0m\u001b[0;34m)\u001b[0m\u001b[0;34m\u001b[0m\u001b[0;34m\u001b[0m\u001b[0m\n\u001b[0m\u001b[1;32m    606\u001b[0m \u001b[0;34m\u001b[0m\u001b[0m\n\u001b[1;32m    607\u001b[0m     \u001b[0;32mif\u001b[0m \u001b[0mchunksize\u001b[0m \u001b[0;32mor\u001b[0m \u001b[0miterator\u001b[0m\u001b[0;34m:\u001b[0m\u001b[0;34m\u001b[0m\u001b[0;34m\u001b[0m\u001b[0m\n",
            "\u001b[0;32m/usr/local/lib/python3.9/dist-packages/pandas/io/parsers/readers.py\u001b[0m in \u001b[0;36m__init__\u001b[0;34m(self, f, engine, **kwds)\u001b[0m\n\u001b[1;32m   1440\u001b[0m \u001b[0;34m\u001b[0m\u001b[0m\n\u001b[1;32m   1441\u001b[0m         \u001b[0mself\u001b[0m\u001b[0;34m.\u001b[0m\u001b[0mhandles\u001b[0m\u001b[0;34m:\u001b[0m \u001b[0mIOHandles\u001b[0m \u001b[0;34m|\u001b[0m \u001b[0;32mNone\u001b[0m \u001b[0;34m=\u001b[0m \u001b[0;32mNone\u001b[0m\u001b[0;34m\u001b[0m\u001b[0;34m\u001b[0m\u001b[0m\n\u001b[0;32m-> 1442\u001b[0;31m         \u001b[0mself\u001b[0m\u001b[0;34m.\u001b[0m\u001b[0m_engine\u001b[0m \u001b[0;34m=\u001b[0m \u001b[0mself\u001b[0m\u001b[0;34m.\u001b[0m\u001b[0m_make_engine\u001b[0m\u001b[0;34m(\u001b[0m\u001b[0mf\u001b[0m\u001b[0;34m,\u001b[0m \u001b[0mself\u001b[0m\u001b[0;34m.\u001b[0m\u001b[0mengine\u001b[0m\u001b[0;34m)\u001b[0m\u001b[0;34m\u001b[0m\u001b[0;34m\u001b[0m\u001b[0m\n\u001b[0m\u001b[1;32m   1443\u001b[0m \u001b[0;34m\u001b[0m\u001b[0m\n\u001b[1;32m   1444\u001b[0m     \u001b[0;32mdef\u001b[0m \u001b[0mclose\u001b[0m\u001b[0;34m(\u001b[0m\u001b[0mself\u001b[0m\u001b[0;34m)\u001b[0m \u001b[0;34m->\u001b[0m \u001b[0;32mNone\u001b[0m\u001b[0;34m:\u001b[0m\u001b[0;34m\u001b[0m\u001b[0;34m\u001b[0m\u001b[0m\n",
            "\u001b[0;32m/usr/local/lib/python3.9/dist-packages/pandas/io/parsers/readers.py\u001b[0m in \u001b[0;36m_make_engine\u001b[0;34m(self, f, engine)\u001b[0m\n\u001b[1;32m   1733\u001b[0m                 \u001b[0;32mif\u001b[0m \u001b[0;34m\"b\"\u001b[0m \u001b[0;32mnot\u001b[0m \u001b[0;32min\u001b[0m \u001b[0mmode\u001b[0m\u001b[0;34m:\u001b[0m\u001b[0;34m\u001b[0m\u001b[0;34m\u001b[0m\u001b[0m\n\u001b[1;32m   1734\u001b[0m                     \u001b[0mmode\u001b[0m \u001b[0;34m+=\u001b[0m \u001b[0;34m\"b\"\u001b[0m\u001b[0;34m\u001b[0m\u001b[0;34m\u001b[0m\u001b[0m\n\u001b[0;32m-> 1735\u001b[0;31m             self.handles = get_handle(\n\u001b[0m\u001b[1;32m   1736\u001b[0m                 \u001b[0mf\u001b[0m\u001b[0;34m,\u001b[0m\u001b[0;34m\u001b[0m\u001b[0;34m\u001b[0m\u001b[0m\n\u001b[1;32m   1737\u001b[0m                 \u001b[0mmode\u001b[0m\u001b[0;34m,\u001b[0m\u001b[0;34m\u001b[0m\u001b[0;34m\u001b[0m\u001b[0m\n",
            "\u001b[0;32m/usr/local/lib/python3.9/dist-packages/pandas/io/common.py\u001b[0m in \u001b[0;36mget_handle\u001b[0;34m(path_or_buf, mode, encoding, compression, memory_map, is_text, errors, storage_options)\u001b[0m\n\u001b[1;32m    854\u001b[0m         \u001b[0;32mif\u001b[0m \u001b[0mioargs\u001b[0m\u001b[0;34m.\u001b[0m\u001b[0mencoding\u001b[0m \u001b[0;32mand\u001b[0m \u001b[0;34m\"b\"\u001b[0m \u001b[0;32mnot\u001b[0m \u001b[0;32min\u001b[0m \u001b[0mioargs\u001b[0m\u001b[0;34m.\u001b[0m\u001b[0mmode\u001b[0m\u001b[0;34m:\u001b[0m\u001b[0;34m\u001b[0m\u001b[0;34m\u001b[0m\u001b[0m\n\u001b[1;32m    855\u001b[0m             \u001b[0;31m# Encoding\u001b[0m\u001b[0;34m\u001b[0m\u001b[0;34m\u001b[0m\u001b[0m\n\u001b[0;32m--> 856\u001b[0;31m             handle = open(\n\u001b[0m\u001b[1;32m    857\u001b[0m                 \u001b[0mhandle\u001b[0m\u001b[0;34m,\u001b[0m\u001b[0;34m\u001b[0m\u001b[0;34m\u001b[0m\u001b[0m\n\u001b[1;32m    858\u001b[0m                 \u001b[0mioargs\u001b[0m\u001b[0;34m.\u001b[0m\u001b[0mmode\u001b[0m\u001b[0;34m,\u001b[0m\u001b[0;34m\u001b[0m\u001b[0;34m\u001b[0m\u001b[0m\n",
            "\u001b[0;31mFileNotFoundError\u001b[0m: [Errno 2] No such file or directory: 'fandango_scrape.csv'"
          ]
        }
      ],
      "source": [
        "fandango = pd.read_csv(r\"fandango_scrape.csv\")"
      ]
    },
    {
      "cell_type": "markdown",
      "metadata": {
        "id": "TZKiTpUn2VUP"
      },
      "source": [
        "**TASK: Fandango verilerini keşfetmeye çalışın. Aşağıdakine benzer çıktılar elde edin.**\n",
        "\n",
        "# Uyarı ! çıktının tam üstünü kullanmayın. Bir üst hücre satırında çalışmalar yapın."
      ]
    },
    {
      "cell_type": "code",
      "execution_count": null,
      "metadata": {
        "id": "uv3_rLNA2VUP"
      },
      "outputs": [],
      "source": [
        "fandango.head()"
      ]
    },
    {
      "cell_type": "code",
      "execution_count": null,
      "metadata": {
        "id": "7LsBOa-N2VUP"
      },
      "outputs": [],
      "source": [
        "# Buraya kod yazmayın !"
      ]
    },
    {
      "cell_type": "code",
      "source": [
        "fandango.info()"
      ],
      "metadata": {
        "id": "LNfdyHTw5U1j"
      },
      "execution_count": null,
      "outputs": []
    },
    {
      "cell_type": "code",
      "execution_count": null,
      "metadata": {
        "id": "G69BrPhr2VUQ"
      },
      "outputs": [],
      "source": [
        "# Buraya kod yazmayın, üstte yeni bir kod hücresi ekleyip oraya kodlar yazıp aşağıdaki çıktıyı almaya çalışın."
      ]
    },
    {
      "cell_type": "code",
      "source": [
        "fandango.describe()"
      ],
      "metadata": {
        "id": "3269z2e06Bee"
      },
      "execution_count": null,
      "outputs": []
    },
    {
      "cell_type": "markdown",
      "source": [
        "#@title Default title text\n",
        "# Buraya kod yazmayın, üstte yeni bir kod hücresi ekleyip oraya kodlar yazıp aşağıdaki çıktıyı almaya çalışın."
      ],
      "metadata": {
        "id": "l7Hn3V3Q2VUQ"
      }
    },
    {
      "cell_type": "markdown",
      "metadata": {
        "id": "MwAxHGBj2VUQ"
      },
      "source": [
        "**TASK: Verimizdeki filmlere ait votes ile rating arasındaki ilişkiyi keşfedelim. Derecelendirme ve oylar arasındaki ilişkiyi gösteren bir scatterplot grafiği oluşturun. Görsel stil eklemeler tamamen size kalmış**"
      ]
    },
    {
      "cell_type": "code",
      "execution_count": null,
      "metadata": {
        "id": "n5ldM2AI2VUR"
      },
      "outputs": [],
      "source": [
        "plt.scatter(fandango['RATING'], fandango['VOTES'])\n",
        "plt.xlabel('RATING')\n",
        "plt.ylabel('VOTES')\n",
        "plt.show()"
      ]
    },
    {
      "cell_type": "code",
      "execution_count": null,
      "metadata": {
        "id": "XMSellR_2VUR"
      },
      "outputs": [],
      "source": []
    },
    {
      "cell_type": "markdown",
      "metadata": {
        "id": "47mnYVjp2VUR"
      },
      "source": [
        "**TASK: Bütün columnlar arasındaki ilişkiye bakın**"
      ]
    },
    {
      "cell_type": "code",
      "execution_count": null,
      "metadata": {
        "id": "oKo0F0ko2VUR"
      },
      "outputs": [],
      "source": [
        "corr_matrix = fandango.corr()\n",
        "corr_matrix"
      ]
    },
    {
      "cell_type": "code",
      "execution_count": null,
      "metadata": {
        "id": "wdzRkgCb2VUR"
      },
      "outputs": [],
      "source": []
    },
    {
      "cell_type": "markdown",
      "metadata": {
        "id": "VG357gPJ2VUS"
      },
      "source": [
        "**TASK: Bir şekilde 'Yıl' sütunu ekleyin**"
      ]
    },
    {
      "cell_type": "code",
      "execution_count": null,
      "metadata": {
        "id": "Ujvc1m7J2VUS"
      },
      "outputs": [],
      "source": [
        "fandango['Yıl'] = fandango['FILM'].str[-5:-1].astype(int)\n",
        "fandango.head()"
      ]
    },
    {
      "cell_type": "code",
      "execution_count": null,
      "metadata": {
        "id": "iy_jgv2J2VUS"
      },
      "outputs": [],
      "source": []
    },
    {
      "cell_type": "markdown",
      "metadata": {
        "id": "Cc9bqJFR2VUS"
      },
      "source": [
        "**TASK: Elimizdeki Fandango verilerinde yıl başına düşen film sayılarını bulun**"
      ]
    },
    {
      "cell_type": "code",
      "execution_count": null,
      "metadata": {
        "id": "X3nG01Ns2VUS"
      },
      "outputs": [],
      "source": [
        "film_sayilari = fandango.groupby('Yıl')['FILM'].count()\n",
        "sonuc = pd.DataFrame({'YEAR': film_sayilari.index, 'FILM SAYISI': film_sayilari.values}).sort_values('YEAR')\n",
        "print(sonuc)"
      ]
    },
    {
      "cell_type": "code",
      "execution_count": null,
      "metadata": {
        "id": "iZ880nl_2VUS"
      },
      "outputs": [],
      "source": []
    },
    {
      "cell_type": "markdown",
      "metadata": {
        "id": "wSz1HGYk2VUT"
      },
      "source": [
        "**TASK: Bir plot ile yıllara düşen film sayılarını görselleştirin:**"
      ]
    },
    {
      "cell_type": "code",
      "execution_count": null,
      "metadata": {
        "id": "s6byOdAi2VUT"
      },
      "outputs": [],
      "source": [
        "sns.set(style=\"whitegrid\")\n",
        "\n",
        "film_sayilari = fandango['Yıl'].value_counts().sort_index()\n",
        "\n",
        "\n",
        "film_sayilari = film_sayilari.loc[film_sayilari != 0]\n",
        "\n",
        "sns.barplot(x=film_sayilari.index, y=film_sayilari.values)"
      ]
    },
    {
      "cell_type": "code",
      "execution_count": null,
      "metadata": {
        "id": "L3BgtbQC2VUT"
      },
      "outputs": [],
      "source": []
    },
    {
      "cell_type": "markdown",
      "metadata": {
        "id": "MhxIR65m2VUT"
      },
      "source": [
        "**TASK: En fazla oyu alan 10 film hangileridir?**"
      ]
    },
    {
      "cell_type": "code",
      "execution_count": null,
      "metadata": {
        "id": "pRFsRvNQ2VUT"
      },
      "outputs": [],
      "source": [
        "film_ratings = fandango[[\"FILM\",\"STARS\", \"RATING\", \"VOTES\",\"Yıl\"]]\n",
        "en_iyi_filmler = film_ratings.sort_values(\"VOTES\", ascending=False).head(10)\n",
        "en_iyi_filmler"
      ]
    },
    {
      "cell_type": "code",
      "execution_count": null,
      "metadata": {
        "id": "Tsxmjwry2VUT"
      },
      "outputs": [],
      "source": []
    },
    {
      "cell_type": "markdown",
      "metadata": {
        "id": "ffzEfGCv2VUU"
      },
      "source": [
        "**TASK: Kaç tane film 0 vote'u aldı ?**"
      ]
    },
    {
      "cell_type": "code",
      "execution_count": null,
      "metadata": {
        "id": "TMMthCfY2VUU"
      },
      "outputs": [],
      "source": [
        "d = len(fandango[fandango[\"VOTES\"] == 0])\n",
        "\n",
        "print(d)"
      ]
    },
    {
      "cell_type": "code",
      "execution_count": null,
      "metadata": {
        "id": "128PXTKe2VUU"
      },
      "outputs": [],
      "source": []
    },
    {
      "cell_type": "markdown",
      "metadata": {
        "id": "Rzfey4fT2VUU"
      },
      "source": [
        "**TASK: Sıfır oyu olan filmleri kaldırarak yalnızca incelenen filmlerin dataframe'ini oluşturun.**"
      ]
    },
    {
      "cell_type": "code",
      "execution_count": null,
      "metadata": {
        "id": "0bP2dhXc2VUU"
      },
      "outputs": [],
      "source": [
        "fandango_no_zero_votes = fandango[fandango[\"VOTES\"] != 0]\n",
        "\n",
        "\n"
      ]
    },
    {
      "cell_type": "code",
      "execution_count": null,
      "metadata": {
        "id": "oRW-aAGd2VUU"
      },
      "outputs": [],
      "source": []
    },
    {
      "cell_type": "markdown",
      "metadata": {
        "id": "Gy-J_3wR2VUV"
      },
      "source": [
        "**TASK: Bazı filmlerde usulsüzlük yapıldığı ve kullanıcılara gösterilen STARS değerlerinin gerçek RATING değerlerinden biraz daha fazla çıktığı düşünüyoruz. 'STARS_DIFF' adında yeni bir column ekleyerek STARS ile RATING arasındaki farkları bu column'da tutun.**"
      ]
    },
    {
      "cell_type": "code",
      "execution_count": null,
      "metadata": {
        "id": "zkTxAI9v2VUV"
      },
      "outputs": [],
      "source": [
        "fandango_no_zero_votes['STARS_DIFF'] = fandango_no_zero_votes['STARS'] - fandango_no_zero_votes['RATING']\n",
        "fandango_no_zero_votes"
      ]
    },
    {
      "cell_type": "code",
      "execution_count": null,
      "metadata": {
        "id": "5Cm09e1Y2VUV"
      },
      "outputs": [],
      "source": []
    },
    {
      "cell_type": "code",
      "execution_count": null,
      "metadata": {
        "id": "uXoJnr_82VUV"
      },
      "outputs": [],
      "source": []
    },
    {
      "cell_type": "markdown",
      "metadata": {
        "id": "D00gXQR42VUV"
      },
      "source": [
        "**TASK: STARS_DIFF sütunundaki verilerin kaçar kez oluştuğunu count edin ve plotlayın**"
      ]
    },
    {
      "cell_type": "code",
      "execution_count": null,
      "metadata": {
        "id": "v5UQGesu2VUV"
      },
      "outputs": [],
      "source": [
        "fandango_no_zero_votes['STARS_DIFF'] = fandango_no_zero_votes['STARS_DIFF'].round(3)\n",
        "stars_diff_count = fandango_no_zero_votes['STARS_DIFF'].value_counts()\n",
        "\n",
        "sns.barplot(x=stars_diff_count.index, y=stars_diff_count.values)"
      ]
    },
    {
      "cell_type": "code",
      "execution_count": null,
      "metadata": {
        "id": "QYzlHP1f2VUV"
      },
      "outputs": [],
      "source": []
    },
    {
      "cell_type": "markdown",
      "metadata": {
        "id": "WXzgfQeJ2VUW"
      },
      "source": [
        "**TASK Üstteki plot'dan gördüğümüz üzere STARS_DIFF'i 1 olan film bile var. Bu çok yoğun usulsüzlük yapılan filmi getirin ve inceleyelim.**"
      ]
    },
    {
      "cell_type": "code",
      "execution_count": null,
      "metadata": {
        "id": "SO4oZ9qU2VUW"
      },
      "outputs": [],
      "source": [
        "fandango_no_zero_votes[fandango_no_zero_votes['STARS_DIFF'] == 1]"
      ]
    },
    {
      "cell_type": "code",
      "execution_count": null,
      "metadata": {
        "id": "6z0Aotj42VUW"
      },
      "outputs": [],
      "source": []
    },
    {
      "cell_type": "markdown",
      "metadata": {
        "id": "LoHAlgLm2VUW"
      },
      "source": [
        "## Part Three: Fandango Puanlamalarını Başka Sitelerle Karşılaştıralım\n",
        "\n",
        "**TASK: \"all_sites_scores.csv\" dosyasını okuyun**"
      ]
    },
    {
      "cell_type": "code",
      "execution_count": null,
      "metadata": {
        "id": "Ma5GBjxB2VUW"
      },
      "outputs": [],
      "source": [
        "all_sites = pd.read_csv(\"all_sites_scores.csv\")"
      ]
    },
    {
      "cell_type": "markdown",
      "metadata": {
        "id": "wNHxC4cO2VUW"
      },
      "source": [
        "**TASK: Bu csv dosyasını da keşfetmek için temel analiz başlangıcı kodlarını yazın.**"
      ]
    },
    {
      "cell_type": "code",
      "execution_count": null,
      "metadata": {
        "id": "a5LYJ3JH2VUW"
      },
      "outputs": [],
      "source": [
        "all_sites.head()"
      ]
    },
    {
      "cell_type": "code",
      "execution_count": null,
      "metadata": {
        "id": "H36IQyFW2VUX"
      },
      "outputs": [],
      "source": []
    },
    {
      "cell_type": "code",
      "execution_count": null,
      "metadata": {
        "id": "hi78zdvv2VUX"
      },
      "outputs": [],
      "source": [
        "all_sites.info()"
      ]
    },
    {
      "cell_type": "code",
      "execution_count": null,
      "metadata": {
        "id": "15RV2ibp2VUX"
      },
      "outputs": [],
      "source": [
        "all_sites.describe()"
      ]
    },
    {
      "cell_type": "markdown",
      "metadata": {
        "id": "VdIpZoCm2VUX"
      },
      "source": [
        "### Rotten Tomatoes\n",
        "\n",
        "Önce Rotten Tomatoes'i inceleyelim. RottenTomatoes adında gerçek yorumcuların derecelendirmeleri ve RottenTomatoes_User adında kullanıcıların derecelendirmelerini içeren bir sütun bulunuyor. Bu sütunları plot edelim.\n",
        "\n",
        "**TASK: Aşağıdaki gibi bir scatterplot oluşturun.**"
      ]
    },
    {
      "cell_type": "code",
      "execution_count": null,
      "metadata": {
        "id": "4YPVGv-O2VUX"
      },
      "outputs": [],
      "source": [
        "sns.scatterplot(data=all_sites, x='RottenTomatoes', y='RottenTomatoes_User')"
      ]
    },
    {
      "cell_type": "code",
      "execution_count": null,
      "metadata": {
        "id": "g6shL3Y32VUX"
      },
      "outputs": [],
      "source": []
    },
    {
      "cell_type": "markdown",
      "metadata": {
        "id": "WjxkU7pE2VUY"
      },
      "source": [
        "**TASK: Rotten DIFF adında bir column oluşturun ve bu column RottenTomatoes-RottenTomatoes_User bilgilerinden oluşsun.**"
      ]
    },
    {
      "cell_type": "code",
      "execution_count": null,
      "metadata": {
        "id": "Q5fKjI5w2VUY"
      },
      "outputs": [],
      "source": [
        "all_sites['Rotten DIFF'] = all_sites['RottenTomatoes'] - all_sites['RottenTomatoes_User']\n",
        "all_sites"
      ]
    },
    {
      "cell_type": "code",
      "execution_count": null,
      "metadata": {
        "id": "kspR1Cjq2VUY"
      },
      "outputs": [],
      "source": []
    },
    {
      "cell_type": "markdown",
      "metadata": {
        "id": "0O_rM69m2VUY"
      },
      "source": [
        "**TASK: RT Eleştirmen Puanı ile RT Kullanıcı Puanı arasındaki farkların dağılımını çizin. Bu dağılım grafiğinde negatif değerler olmalıdır. Bu dağıtımı görüntülemek için KDE veya Histogramları kullanabilirsiniz**"
      ]
    },
    {
      "cell_type": "code",
      "execution_count": null,
      "metadata": {
        "id": "JWeX6vNt2VUY"
      },
      "outputs": [],
      "source": [
        "sns.histplot(data=all_sites, x=\"Rotten DIFF\", kde=True, bins=30)"
      ]
    },
    {
      "cell_type": "code",
      "execution_count": null,
      "metadata": {
        "id": "LCqaoPma2VUY"
      },
      "outputs": [],
      "source": []
    },
    {
      "cell_type": "markdown",
      "metadata": {
        "id": "828_r_9W2VUY"
      },
      "source": [
        "**Hadi Kullanıcı ile eleştirmen puanlamaları arasındaki farkın(Rotten_Diff) en yüksek ve en düşük olduğu filmlere bi bakalım.**"
      ]
    },
    {
      "cell_type": "markdown",
      "metadata": {
        "id": "kE7I_aFr2VUZ"
      },
      "source": [
        "**TASK: Ortalama olarak kullanıcıların, eleştirmenlerden daha fazla sevdiği 5 filmi getirin.**"
      ]
    },
    {
      "cell_type": "code",
      "execution_count": null,
      "metadata": {
        "id": "9IlJM6zC2VUZ"
      },
      "outputs": [],
      "source": [
        "all_sites[['FILM', 'Rotten DIFF']].sort_values('Rotten DIFF').head(5)"
      ]
    },
    {
      "cell_type": "code",
      "execution_count": null,
      "metadata": {
        "id": "JHXdZb-m2VUZ"
      },
      "outputs": [],
      "source": []
    },
    {
      "cell_type": "markdown",
      "metadata": {
        "id": "E28RIRTF2VUZ"
      },
      "source": [
        "**TASK: Şimdi de tam tersi, kullanıcıların eleştirmenlerden bile daha çok sevmediği 5 filmi getirin**"
      ]
    },
    {
      "cell_type": "code",
      "execution_count": null,
      "metadata": {
        "id": "s7PiKSNk2VUZ"
      },
      "outputs": [],
      "source": [
        "all_sites[['FILM', 'Rotten DIFF']].sort_values('Rotten DIFF',ascending=False).head(5)"
      ]
    },
    {
      "cell_type": "code",
      "execution_count": null,
      "metadata": {
        "id": "XWg8nz802VUa"
      },
      "outputs": [],
      "source": []
    },
    {
      "cell_type": "markdown",
      "metadata": {
        "id": "niEap-oX2VUa"
      },
      "source": [
        "## MetaCritic\n",
        "\n",
        "Burdan sonraki analizlerde sizi özgür bırakıyoruz. İstediğiniz her şeye bakabilir her türlü incelemeyi ve plot'u çizdirebilirsiniz. Ve en sonunda ulaşmanızı istediğimiz bir sonuç var. *Fandango* sitesi kullanıcıları film puanlamaları konusunda kayda değer ölçüde kandırıyor çünkü .... şeklinde bir karara varmanız ya da *Fandango* sitesi diğer sitelere benzer bir tutum sergiliyor ve herhangi bir yanlış yönlendirme yapmıyor çünkü .... şeklinde bir karara varmanız. \n",
        "\n",
        "Varacağınız bu kararı maddeler ve kanıtlar halinde notebook'unuzun en altında mantıklı bir şekilde delilleriyle açıklayın. Burada hangi karara varırsanız varın önemli olan ve bizim de EmKa Academy olarak dikkat edeceğimiz şey, ulaştığınız kararı düzgün bir şekilde açıklayabiliyor musunuz ? Asıl odaklandığımız nokta sonuçtan ziyade bu. O yüzden en altta maddeler halinde kararınızı açıklarken dikkatli davranın. "
      ]
    },
    {
      "cell_type": "code",
      "execution_count": null,
      "metadata": {
        "id": "l9jWfjzb2VUa"
      },
      "outputs": [],
      "source": [
        "all_sites"
      ]
    },
    {
      "cell_type": "code",
      "execution_count": null,
      "metadata": {
        "id": "eoB6PeGy2VUa"
      },
      "outputs": [],
      "source": [
        "merged_df = pd.merge(fandango, all_sites, on=\"FILM\")\n",
        "merged_df['STARS']=merged_df['STARS']*20\n",
        "merged_df['IMDB']=merged_df['IMDB']*10"
      ]
    },
    {
      "cell_type": "markdown",
      "source": [
        "Öncelikle tüm siteların filmlerini yüzlük olarak birleştirdik."
      ],
      "metadata": {
        "id": "W35azOO3NCo4"
      }
    },
    {
      "cell_type": "code",
      "execution_count": null,
      "metadata": {
        "id": "vtYryKk52VUb"
      },
      "outputs": [],
      "source": [
        "merged_df"
      ]
    },
    {
      "cell_type": "code",
      "execution_count": null,
      "metadata": {
        "id": "bkAl2UWv2VUb"
      },
      "outputs": [],
      "source": [
        "merged_df[['STARS', 'IMDB', 'RottenTomatoes', 'Metacritic']].corr()"
      ]
    },
    {
      "cell_type": "markdown",
      "source": [
        "Sonra genel bir fikir edinmek için correlation bulmak mantıklı geldi. Gördüğünüz üzere Fandando dışındaki üç sitenin rating correlation'ı 1'e gayet yakın ancak Fandango'nun diğer sitelerle negatif correlation'ı olmasa da sıfıra yakın(indecisive) bir correlation çıktığını görüyoruz. IMDB ile diğerlerinden çok daha fazla pozitif correlation'ının olması da acaba line graph ile nasıl gözükür sorusunu merak ettiriyor."
      ],
      "metadata": {
        "id": "-RictQJkNQjD"
      }
    },
    {
      "cell_type": "code",
      "execution_count": null,
      "metadata": {
        "id": "dSuH_ZcN2VUb"
      },
      "outputs": [],
      "source": [
        "worst_rated = merged_df.sort_values(by='RottenTomatoes', ascending=True)\n",
        "\n",
        "worst_rated = worst_rated.head(100)"
      ]
    },
    {
      "cell_type": "markdown",
      "source": [
        "Line graph çizebilmek için RottenTomatoes sitesine göre en kötü filmden en iyisine 100 filmi sıralıyoruz."
      ],
      "metadata": {
        "id": "2wqVPzBwOEkQ"
      }
    },
    {
      "cell_type": "code",
      "execution_count": null,
      "metadata": {
        "id": "JrABIyO32VUb"
      },
      "outputs": [],
      "source": [
        "selected_films = worst_rated\n",
        "\n",
        "plt.figure(figsize=(10, 6))\n",
        "\n",
        "plt.plot(range(len(selected_films)), selected_films['STARS'], label='Fandango')\n",
        "plt.plot(range(len(selected_films)), selected_films['RottenTomatoes'], label='RottenTomatoes')\n",
        "plt.plot(range(len(selected_films)), selected_films['Metacritic'], label='Metacritic')\n",
        "plt.plot(range(len(selected_films)), selected_films['IMDB'], label='IMDB')\n",
        "\n",
        "plt.xlabel('Film ID')\n",
        "plt.ylabel('Rating')\n",
        "plt.title('Comparison of Ratings for Films for 100 worst rated movies in RottenTomatoes')\n",
        "plt.legend(loc='best')\n",
        "\n",
        "plt.show()"
      ]
    },
    {
      "cell_type": "markdown",
      "source": [
        "Sonra RottenTomatoes'un 100 en düşük ratingli film sıralamasına göre yapılmış line graph bize çok net yorum yapılabilecek görsellikler veriyor.\n",
        "1. Fandango en 'kötü' filmlere bile 60'tan az rating vermiyor,\n",
        "2. IMDB sitesi ile aralarında net bir davranış benzerliği olsa da Fandango özellikle low-rated filmlerin ratinglerini şişiriyor.\n",
        "        Bu iki özellik acaba bu 100 film için Fandango sitesinde ortalama ne kadar bir pozitif fark oluşturulduğunu merak ettiriyor.\n"
      ],
      "metadata": {
        "id": "XTQXmAq7PEGv"
      }
    },
    {
      "cell_type": "code",
      "source": [
        "selected_films['Fandango_diff'] = (selected_films['STARS'] - selected_films['RottenTomatoes']+selected_films['STARS'] - selected_films['Metacritic']+selected_films['STARS'] - selected_films['IMDB'])/3\n",
        "\n",
        "plt.figure(figsize=(20, 6))\n",
        "\n",
        "plt.bar(range(len(selected_films)),selected_films['Fandango_diff'])\n",
        "\n",
        "plt.xlabel('Film ID')\n",
        "plt.ylabel('Average of sum of (Fandango Rating - Other Sites Rating)')\n",
        "plt.title('Average rating offset of Fandango ratings according to other sites for 100 worst rated films(worst in RottenTomatoes)')\n",
        "\n"
      ],
      "metadata": {
        "id": "ntjZ1wESquPI"
      },
      "execution_count": null,
      "outputs": []
    },
    {
      "cell_type": "markdown",
      "source": [
        "Bu grid graph'te de görüleceği üzere ortalama offset giderek azalıyor ancak yine de bu verilere dayanarak Fandango'nun diğer sitelerde çok daha düşük rate'lenmiş filmlere bir şişirme uygulayarak izleyiciyi yanılttığını söyleyebiliriz."
      ],
      "metadata": {
        "id": "UEHdItzsalzG"
      }
    },
    {
      "cell_type": "markdown",
      "metadata": {
        "id": "T8LOoy7k2VUb"
      },
      "source": [
        "# BAŞARILAR"
      ]
    },
    {
      "cell_type": "markdown",
      "metadata": {
        "id": "k4_WMv762VUb"
      },
      "source": [
        "----"
      ]
    }
  ],
  "metadata": {
    "anaconda-cloud": {},
    "kernelspec": {
      "display_name": "Python 3",
      "language": "python",
      "name": "python3"
    },
    "language_info": {
      "codemirror_mode": {
        "name": "ipython",
        "version": 3
      },
      "file_extension": ".py",
      "mimetype": "text/x-python",
      "name": "python",
      "nbconvert_exporter": "python",
      "pygments_lexer": "ipython3",
      "version": "3.10.10"
    },
    "colab": {
      "provenance": []
    }
  },
  "nbformat": 4,
  "nbformat_minor": 0
}